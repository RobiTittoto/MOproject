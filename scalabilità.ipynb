{
 "cells": [
  {
   "metadata": {},
   "cell_type": "markdown",
   "source": [
    "# Analisi di Scalabilità - [Nome Modello]\n",
    "\n",
    "**Autore**: Pietro Terribile e Roberto Tittoto  \n",
    "**Data**: 06-2025  \n",
    "**Descrizione**: Valutazione delle prestazioni al variare delle dimensioni del problema.\n"
   ],
   "id": "51e7a92a49ef48b5"
  },
  {
   "metadata": {},
   "cell_type": "markdown",
   "source": [
    "L'analisi verrà svolta prendendo in considerazione\n",
    " - tempo di necessario per ottenere la soluzione ottima\n",
    " - la memoria utilizzata per svolgere l'ottimizzazione\n",
    "al crescere della dimensione del problema.\n",
    "\n",
    "La dimensione del problema è definita in base al numero di nodi presenti nel grafo\n",
    "\n",
    "Si è deciso di prendere in considerazione 7 diverse dimensioni:\n",
    " - 10 nodi\n",
    " - 15 nodi\n",
    " - 20 nodi\n",
    " - 25 nodi\n",
    " - 30 nodi\n",
    " - 35 nodi\n",
    " - 40 nodi\n",
    " - 45 nodi\n",
    "\n",
    "Per ogni dimensione vengono create 10 istanze diverse del problema, si ottengono quindi 10 misurazioni\n",
    "\n",
    "Nota: 45 è la dimensione massima risolvibile con xpress versione Comunity"
   ],
   "id": "3566f21b6b7450e6"
  },
  {
   "metadata": {
    "ExecuteTime": {
     "end_time": "2025-06-25T16:26:47.458960Z",
     "start_time": "2025-06-25T16:26:46.530720Z"
    }
   },
   "cell_type": "code",
   "source": [
    "from networkx.algorithms.threshold import is_threshold_graph\n",
    "\n",
    "from framework import logger, instance_generator, mv_problem, ms_problem\n",
    "import copy\n",
    "\n",
    "class PerformanceResult:\n",
    "    \"\"\"Classe per memorizzare i risultati di performance\"\"\"\n",
    "\n",
    "    def __init__(self, nodes: int,  mv_time: float, ms_time: float,\n",
    "                 mv_memory: float, ms_memory: float):\n",
    "        self.nodes = nodes\n",
    "        self.mv_time = mv_time\n",
    "        self.ms_time = ms_time\n",
    "        self.mv_memory = mv_memory\n",
    "        self.ms_memory = ms_memory\n"
   ],
   "id": "a7584be3b93bec4c",
   "outputs": [],
   "execution_count": 1
  },
  {
   "metadata": {
    "ExecuteTime": {
     "end_time": "2025-06-25T16:25:26.361348Z",
     "start_time": "2025-06-25T16:25:23.828819Z"
    }
   },
   "cell_type": "code",
   "outputs": [
    {
     "ename": "TypeError",
     "evalue": "'int' object is not iterable",
     "output_type": "error",
     "traceback": [
      "\u001B[31m---------------------------------------------------------------------------\u001B[39m",
      "\u001B[31mTypeError\u001B[39m                                 Traceback (most recent call last)",
      "\u001B[36mCell\u001B[39m\u001B[36m \u001B[39m\u001B[32mIn[1]\u001B[39m\u001B[32m, line 23\u001B[39m\n\u001B[32m     20\u001B[39m dim = {\u001B[32m10\u001B[39m, \u001B[32m15\u001B[39m, \u001B[32m20\u001B[39m, \u001B[32m25\u001B[39m, \u001B[32m30\u001B[39m, \u001B[32m35\u001B[39m, \u001B[32m40\u001B[39m, \u001B[32m45\u001B[39m}\n\u001B[32m     22\u001B[39m \u001B[38;5;28;01mfor\u001B[39;00m num_nodes \u001B[38;5;129;01min\u001B[39;00m dim:\n\u001B[32m---> \u001B[39m\u001B[32m23\u001B[39m \u001B[43m    \u001B[49m\u001B[38;5;28;43;01mfor\u001B[39;49;00m\u001B[43m \u001B[49m\u001B[43m_\u001B[49m\u001B[43m \u001B[49m\u001B[38;5;129;43;01min\u001B[39;49;00m\u001B[43m \u001B[49m\u001B[43mnum_nodes\u001B[49m\u001B[43m:\u001B[49m\n\u001B[32m     24\u001B[39m \u001B[43m        \u001B[49m\u001B[43mgraph\u001B[49m\u001B[43m \u001B[49m\u001B[43m=\u001B[49m\u001B[43m \u001B[49m\u001B[43minstance_generator\u001B[49m\u001B[43m.\u001B[49m\u001B[43mgenerate_connected_graph\u001B[49m\u001B[43m(\u001B[49m\u001B[43mnum_nodes\u001B[49m\u001B[43m)\u001B[49m\n\u001B[32m     25\u001B[39m \u001B[43m        \u001B[49m\u001B[43mgraph\u001B[49m\u001B[43m.\u001B[49m\u001B[43mnew_travel\u001B[49m\u001B[43m(\u001B[49m\u001B[43mgraph\u001B[49m\u001B[43m.\u001B[49m\u001B[43mget_node\u001B[49m\u001B[43m(\u001B[49m\u001B[32;43m1\u001B[39;49m\u001B[43m)\u001B[49m\u001B[43m,\u001B[49m\u001B[43m \u001B[49m\u001B[43mgraph\u001B[49m\u001B[43m.\u001B[49m\u001B[43mget_node\u001B[49m\u001B[43m(\u001B[49m\u001B[43mnum_nodes\u001B[49m\u001B[43m)\u001B[49m\u001B[43m,\u001B[49m\u001B[43m \u001B[49m\u001B[43mgamma\u001B[49m\u001B[43m=\u001B[49m\u001B[32;43m6\u001B[39;49m\u001B[43m)\u001B[49m\n",
      "\u001B[31mTypeError\u001B[39m: 'int' object is not iterable"
     ]
    }
   ],
   "execution_count": 1,
   "source": [
    "\n",
    "dim = {10, 15, 20, 25, 30, 35, 40, 45}\n",
    "\n",
    "for num_nodes in dim:\n",
    "    for _ in num_nodes:\n",
    "        graph = instance_generator.generate_connected_graph(num_nodes)\n",
    "        graph.new_travel(graph.get_node(1), graph.get_node(num_nodes), gamma=6)\n",
    "        mv_travel_result = mv_problem.resolve_mv_problem(copy.copy(graph))\n",
    "        graph.new_travel(graph.get_node(1), graph.get_node(num_nodes), gamma=6)\n",
    "        ms_travel_result = ms_problem.resolve_ms_problem(copy.copy(graph))\n",
    "        \n",
    "        \n",
    "        \n"
   ],
   "id": "dc324a2f0a35d18f"
  },
  {
   "metadata": {},
   "cell_type": "markdown",
   "source": "",
   "id": "224b9b2409634517"
  },
  {
   "metadata": {},
   "cell_type": "markdown",
   "source": [
    "### Risultati Chiave\n",
    "- **Andamento Tempo**: Lineare/Quadratico/Esponenziale? (Basato sui grafici)\n",
    "- **Memoria**: Cresce in modo accettabile?\n",
    "- **Punto Critico**: Scala massima gestibile con risorse disponibili.\n"
   ],
   "id": "fa8f95652407fc9f"
  }
 ],
 "metadata": {
  "kernelspec": {
   "display_name": "Python 3",
   "language": "python",
   "name": "python3"
  },
  "language_info": {
   "codemirror_mode": {
    "name": "ipython",
    "version": 2
   },
   "file_extension": ".py",
   "mimetype": "text/x-python",
   "name": "python",
   "nbconvert_exporter": "python",
   "pygments_lexer": "ipython2",
   "version": "2.7.6"
  }
 },
 "nbformat": 4,
 "nbformat_minor": 5
}
